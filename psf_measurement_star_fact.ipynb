{
 "cells": [
  {
   "cell_type": "code",
   "execution_count": 2,
   "metadata": {
    "collapsed": false
   },
   "outputs": [],
   "source": [
    "from astropy.coordinates import SkyCoord, AltAz, EarthLocation\n",
    "import astropy.units as u\n",
    "from astropy.time import Time\n",
    "import numpy as np\n",
    "\n",
    "import matplotlib.pyplot as plt\n",
    "from cartopy import crs\n",
    "\n",
    "%matplotlib inline\n",
    "plt.rcParams['figure.figsize'] = (12, 8)"
   ]
  },
  {
   "cell_type": "code",
   "execution_count": 4,
   "metadata": {
    "collapsed": false
   },
   "outputs": [],
   "source": [
    "orm = EarthLocation.of_site('Roque de los Muchachos')"
   ]
  },
  {
   "cell_type": "code",
   "execution_count": 6,
   "metadata": {
    "collapsed": false
   },
   "outputs": [
    {
     "name": "stdout",
     "output_type": "stream",
     "text": [
      "2017-02-17 20:10:00.000 az=-188.12129, alt=34.11186\n",
      "2017-02-17 20:47:00.000 az=-171.61186, alt=34.13095\n"
     ]
    }
   ],
   "source": [
    "star = SkyCoord.from_name('Cursa')\n",
    "\n",
    "t = Time('2017-02-17 18:00') + np.arange(0, 5 * 60, 1) * u.minute\n",
    "t1 = Time('2017-02-17 20:10')\n",
    "t2 = Time('2017-02-17 20:47')\n",
    "\n",
    "star_altaz = star.transform_to(AltAz(location=orm, obstime=t))\n",
    "altaz1 = star.transform_to(AltAz(location=orm, obstime=t1))\n",
    "altaz2 = star.transform_to(AltAz(location=orm, obstime=t2))\n",
    "\n",
    "print(t1, 'az={:.5f}, alt={:.5f}'.format(altaz1.az.deg - 360, 90 - altaz1.alt.deg))\n",
    "print(t2, 'az={:.5f}, alt={:.5f}'.format(altaz2.az.deg - 360, 90 - altaz2.alt.deg))"
   ]
  },
  {
   "cell_type": "code",
   "execution_count": 10,
   "metadata": {
    "collapsed": false
   },
   "outputs": [
    {
     "name": "stderr",
     "output_type": "stream",
     "text": [
      "/home/maxnoe/.local/anaconda3/lib/python3.5/site-packages/cartopy/mpl/geoaxes.py:586: UserWarning: Approximating coordinate system <cartopy._crs.Geodetic object at 0x7f4ad458c3b8> with the PlateCarree projection.\n",
      "  'PlateCarree projection.'.format(crs))\n",
      "/home/maxnoe/.local/anaconda3/lib/python3.5/site-packages/cartopy/mpl/geoaxes.py:586: UserWarning: Approximating coordinate system <cartopy._crs.Geodetic object at 0x7f4ad4596990> with the PlateCarree projection.\n",
      "  'PlateCarree projection.'.format(crs))\n"
     ]
    },
    {
     "data": {
      "image/png": "[encoded data removed]",
      "text/plain": [
       "<matplotlib.figure.Figure at 0x7f4ad2f2d7f0>"
      ]
     },
     "metadata": {},
     "output_type": "display_data"
    }
   ],
   "source": [
    "fig = plt.figure()\n",
    "ax = fig.add_subplot(1, 1, 1, projection=crs.NorthPolarStereo())\n",
    "\n",
    "ax.plot(\n",
    "    star_altaz.az.deg,\n",
    "    star_altaz.alt.deg, \n",
    "    '.',\n",
    "    transform=crs.PlateCarree(),\n",
    "\n",
    ")\n",
    "\n",
    "for alt in np.arange(90, -1, -15, dtype=float):\n",
    "    ax.plot(\n",
    "        np.linspace(0, 360, 150),\n",
    "        np.full(150, alt),\n",
    "        transform=crs.PlateCarree(),\n",
    "        color='C1',\n",
    "        linewidth=0.5,\n",
    "        alpha=0.5,\n",
    "    )\n",
    "    \n",
    "for az in np.arange(0, 360, 22.5, dtype=float):\n",
    "    ax.plot(\n",
    "        np.full(150, az),\n",
    "        np.linspace(0, 90, 150),\n",
    "        transform=crs.PlateCarree(),\n",
    "        color='C1',\n",
    "        linewidth=0.5,\n",
    "        alpha=0.5,\n",
    "    )\n",
    "\n",
    "for altaz in (altaz1, altaz2):\n",
    "    az = altaz.az.deg\n",
    "    alt = altaz.alt.deg\n",
    "    ax.plot(az, alt, 'o', transform=crs.PlateCarree())  \n",
    "    ax.tissot(rad_km=250e3, lons=[az], lats=[alt], facecolor='none', color='k')\n",
    "\n",
    "ax.set_extent([160, 210, 50, 55])"
   ]
  },
  {
   "cell_type": "code",
   "execution_count": null,
   "metadata": {
    "collapsed": true
   },
   "outputs": [],
   "source": []
  }
 ],
 "metadata": {
  "anaconda-cloud": {},
  "kernelspec": {
   "display_name": "Python [default]",
   "language": "python",
   "name": "python3"
  },
  "language_info": {
   "codemirror_mode": {
    "name": "ipython",
    "version": 3
   },
   "file_extension": ".py",
   "mimetype": "text/x-python",
   "name": "python",
   "nbconvert_exporter": "python",
   "pygments_lexer": "ipython3",
   "version": "3.5.2"
  }
 },
 "nbformat": 4,
 "nbformat_minor": 1
}
