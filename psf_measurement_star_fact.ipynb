{
 "cells": [
  {
   "cell_type": "code",
   "execution_count": 102,
   "metadata": {
    "collapsed": false
   },
   "outputs": [],
   "source": [
    "from astropy.coordinates import SkyCoord, AltAz, EarthLocation\n",
    "import astropy.units as u\n",
    "from astropy.time import Time\n",
    "import numpy as np\n",
    "\n",
    "import matplotlib.pyplot as plt\n",
    "from cartopy import crs\n",
    "\n",
    "%matplotlib inline\n",
    "plt.rcParams['figure.figsize'] = (12, 8)"
   ]
  },
  {
   "cell_type": "code",
   "execution_count": 3,
   "metadata": {
    "collapsed": false
   },
   "outputs": [],
   "source": [
    "rigel = SkyCoord.from_name('Rigel')"
   ]
  },
  {
   "cell_type": "code",
   "execution_count": 5,
   "metadata": {
    "collapsed": false
   },
   "outputs": [],
   "source": [
    "orm = EarthLocation.of_site('Roque de los Muchachos')"
   ]
  },
  {
   "cell_type": "code",
   "execution_count": 117,
   "metadata": {
    "collapsed": false
   },
   "outputs": [
    {
     "name": "stdout",
     "output_type": "stream",
     "text": [
      "2017-02-17 20:05:00.000 az=167.81700, alt=167.81700\n",
      "2017-02-17 20:30:00.000 az=177.99943, alt=177.99943\n"
     ]
    }
   ],
   "source": [
    "t = Time('2017-02-17 18:00') + np.arange(0, 5 * 60, 1) * u.minute\n",
    "t1 = Time('2017-02-17 20:05')\n",
    "t2 = Time('2017-02-17 20:30')\n",
    "\n",
    "rigel_altaz = rigel.transform_to(AltAz(location=orm, obstime=t))\n",
    "altaz1 = rigel.transform_to(AltAz(location=orm, obstime=t1))\n",
    "altaz2 = rigel.transform_to(AltAz(location=orm, obstime=t2))\n",
    "\n",
    "print(t1, 'az={0.az.deg:.5f}, alt={0.az.deg:.5f}'.format(altaz1))\n",
    "print(t2, 'az={0.az.deg:.5f}, alt={0.az.deg:.5f}'.format(altaz2))"
   ]
  },
  {
   "cell_type": "code",
   "execution_count": 114,
   "metadata": {
    "collapsed": false
   },
   "outputs": [
    {
     "name": "stderr",
     "output_type": "stream",
     "text": [
      "/home/maxnoe/.local/anaconda3/lib/python3.5/site-packages/cartopy/mpl/geoaxes.py:586: UserWarning: Approximating coordinate system <cartopy._crs.Geodetic object at 0x7fadfe046048> with the PlateCarree projection.\n",
      "  'PlateCarree projection.'.format(crs))\n",
      "/home/maxnoe/.local/anaconda3/lib/python3.5/site-packages/cartopy/mpl/geoaxes.py:586: UserWarning: Approximating coordinate system <cartopy._crs.Geodetic object at 0x7fadfe0df200> with the PlateCarree projection.\n",
      "  'PlateCarree projection.'.format(crs))\n"
     ]
    },
    {
     "data": {
      "image/png": "[encoded data removed]",
      "text/plain": [
       "<matplotlib.figure.Figure at 0x7fadfdf262b0>"
      ]
     },
     "metadata": {},
     "output_type": "display_data"
    }
   ],
   "source": [
    "fig = plt.figure()\n",
    "ax = fig.add_subplot(1, 1, 1, projection=crs.NorthPolarStereo())\n",
    "\n",
    "ax.plot(\n",
    "    rigel_altaz.az.deg,\n",
    "    rigel_altaz.alt.deg, \n",
    "    '.',\n",
    "    transform=crs.PlateCarree(),\n",
    "\n",
    ")\n",
    "\n",
    "for alt in np.arange(90, -1, -15, dtype=float):\n",
    "    ax.plot(\n",
    "        np.linspace(0, 360, 150),\n",
    "        np.full(150, alt),\n",
    "        transform=crs.PlateCarree(),\n",
    "        color='C1',\n",
    "        linewidth=0.5,\n",
    "        alpha=0.5,\n",
    "    )\n",
    "    \n",
    "for az in np.arange(0, 360, 22.5, dtype=float):\n",
    "    ax.plot(\n",
    "        np.full(150, az),\n",
    "        np.linspace(0, 90, 150),\n",
    "        transform=crs.PlateCarree(),\n",
    "        color='C1',\n",
    "        linewidth=0.5,\n",
    "        alpha=0.5,\n",
    "    )\n",
    "\n",
    "for altaz in (altaz1, altaz2):\n",
    "    az = altaz.az.deg\n",
    "    alt = altaz.alt.deg\n",
    "    ax.plot(az, alt, 'o', transform=crs.PlateCarree())  \n",
    "    ax.tissot(rad_km=250e3, lons=[az], lats=[alt], facecolor='none', color='k')\n",
    "\n",
    "ax.set_extent([165, 185, 50, 55])"
   ]
  },
  {
   "cell_type": "code",
   "execution_count": null,
   "metadata": {
    "collapsed": true
   },
   "outputs": [],
   "source": []
  }
 ],
 "metadata": {
  "anaconda-cloud": {},
  "kernelspec": {
   "display_name": "Python [default]",
   "language": "python",
   "name": "python3"
  },
  "language_info": {
   "codemirror_mode": {
    "name": "ipython",
    "version": 3
   },
   "file_extension": ".py",
   "mimetype": "text/x-python",
   "name": "python",
   "nbconvert_exporter": "python",
   "pygments_lexer": "ipython3",
   "version": "3.5.2"
  }
 },
 "nbformat": 4,
 "nbformat_minor": 1
}
